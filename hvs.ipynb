{
 "cells": [
  {
   "cell_type": "code",
   "execution_count": 1,
   "metadata": {},
   "outputs": [],
   "source": [
    "import astropy.units as u\n",
    "import astropy.coordinates as coord\n",
    "import matplotlib.pyplot as plt\n",
    "import numpy as np\n",
    "import gala.integrate as gi\n",
    "import gala.dynamics as gd\n",
    "import gala.potential as gp\n",
    "from gala.units import galactic"
   ]
  },
  {
   "cell_type": "markdown",
   "metadata": {},
   "source": [
    "First, define a gravitational potential."
   ]
  },
  {
   "cell_type": "code",
   "execution_count": 2,
   "metadata": {},
   "outputs": [],
   "source": [
    "pot = gp.MilkyWayPotential()"
   ]
  },
  {
   "cell_type": "markdown",
   "metadata": {},
   "source": [
    "Select a star."
   ]
  },
  {
   "cell_type": "code",
   "execution_count": 7,
   "metadata": {},
   "outputs": [],
   "source": [
    "dict1 = {\n",
    "    'ra': 136.93746493225 * u.degree,\n",
    "    'e_ra': 0.4290 * u.degree,\n",
    "    'dec': 2.75190851109 * u.degree,\n",
    "    'e_dec': 0.3030 * u.degree,\n",
    "    'dist': 102.24 * u.kpc,\n",
    "    'e_dist': 14.60 * u.kpc,\n",
    "    'pmra': -0.60 * (u.mas / u.yr),\n",
    "    'e_pmra': 0.60 * (u.mas / u.yr),\n",
    "    'pmdec': -0.47 * (u.mas / u.yr),\n",
    "    'e_pmdec': 0.39 * (u.mas / u.yr),\n",
    "    'rv': 831.10 * (u.km / u.s),\n",
    "    'e_rv': 5.70 * (u.km / u.s),\n",
    "    }\n",
    "hvs1 = coord.SkyCoord(\n",
    "    ra=dict1['ra'],\n",
    "    dec=dict1['dec'],\n",
    "    distance=dict1['dist'],\n",
    "    pm_ra_cosdec=dict1['pmra'],\n",
    "    pm_dec=dict1['pmdec'],\n",
    "    radial_velocity=dict1['rv'],\n",
    "    frame=\"icrs\"\n",
    ")\n",
    "GC = hvs1.transform_to(coord.Galactocentric)"
   ]
  },
  {
   "cell_type": "markdown",
   "metadata": {},
   "source": [
    "Set initial conditions and specify time-stepping"
   ]
  },
  {
   "cell_type": "code",
   "execution_count": 4,
   "metadata": {},
   "outputs": [],
   "source": [
    "ics = gd.PhaseSpacePosition(pos=GC.cartesian.xyz, vel=GC.velocity.d_xyz)\n",
    "orbit = pot.integrate_orbit(ics, dt=1*u.Myr, n_steps=100)"
   ]
  },
  {
   "cell_type": "markdown",
   "metadata": {},
   "source": [
    "Sample 100 clones from the uncertainties."
   ]
  },
  {
   "cell_type": "code",
   "execution_count": 5,
   "metadata": {},
   "outputs": [],
   "source": [
    "n_samples = 100\n",
    "ra_samples = np.random.normal(ra_mean, ra_std, n_samples)\n",
    "dec_samples = np.random.normal(dec_mean, dec_std, n_samples)\n",
    "dist_samples = np.random.normal(dist_mean, dist_std, n_samples)\n",
    "pmra_samples = np.random.normal(pmra_mean, pmra_std, n_samples)\n",
    "pmdec_samples = np.random.normal(pmdec_mean, pmdec_std, n_samples)\n",
    "rv_samples = np.random.normal(rv_mean, rv_std, n_samples)\n",
    "\n",
    "# Convert to Galactocentric frame and build initial conditions\n",
    "ics_list = []\n",
    "for ra, dec, dist, pmra, pmdec, rv in zip(ra_samples, dec_samples, dist_samples, pmra_samples, pmdec_samples, rv_samples):\n",
    "    sc = SkyCoord(ra=ra*u.deg,\n",
    "                  dec=dec*u.deg,\n",
    "                  distance=dist*u.kpc,\n",
    "                  pm_ra_cosdec=pmra * u.mas/u.yr,\n",
    "                  pm_dec=pmdec * u.mas/u.yr,\n",
    "                  radial_velocity=rv * u.km/u.s,\n",
    "                  frame=\"icrs\")\n",
    "    gc = sc.transform_to(Galactocentric)\n",
    "    ics = gd.PhaseSpacePosition(pos=gc.cartesian.xyz, vel=gc.velocity.d_xyz)\n",
    "    ics_list.append(ics)\n",
    "\n",
    "norbits = 128\n",
    "new_pos = np.random.normal(ics.pos.xyz.to(u.pc).value, 100., size=(norbits,3)).T * u.pc\n",
    "new_vel = np.random.normal(ics.vel.d_xyz.to(u.km/u.s).value, 1., size=(norbits,3)).T * u.km/u.s\n",
    "new_ics = gd.PhaseSpacePosition(pos=new_pos, vel=new_vel)\n",
    "orbits = pot.integrate_orbit(new_ics, dt=1., n_steps=100)"
   ]
  },
  {
   "cell_type": "markdown",
   "metadata": {},
   "source": [
    "Plot the first particle"
   ]
  },
  {
   "cell_type": "code",
   "execution_count": 6,
   "metadata": {},
   "outputs": [
    {
     "data": {
      "image/png": "[encoded data removed]",
      "text/plain": [
       "<Figure size 640x480 with 2 Axes>"
      ]
     },
     "metadata": {},
     "output_type": "display_data"
    }
   ],
   "source": [
    "times = np.arange(orbits.ntimes)\n",
    "pos_output = orbits[:,0].pos.xyz.value\n",
    "\n",
    "plt.figure()\n",
    "plt.scatter(pos_output[0,:], pos_output[1,:],\n",
    "            c=times, cmap='Spectral',s=1)\n",
    "plt.colorbar()\n",
    "plt.xlabel('X Value')\n",
    "plt.ylabel('Y Value')\n",
    "plt.title('Y vs X')\n",
    "plt.show()"
   ]
  }
 ],
 "metadata": {
  "kernelspec": {
   "display_name": "base",
   "language": "python",
   "name": "python3"
  },
  "language_info": {
   "codemirror_mode": {
    "name": "ipython",
    "version": 3
   },
   "file_extension": ".py",
   "mimetype": "text/x-python",
   "name": "python",
   "nbconvert_exporter": "python",
   "pygments_lexer": "ipython3",
   "version": "3.12.2"
  }
 },
 "nbformat": 4,
 "nbformat_minor": 2
}
