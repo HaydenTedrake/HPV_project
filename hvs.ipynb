{
 "cells": [
  {
   "cell_type": "code",
   "execution_count": 40,
   "metadata": {},
   "outputs": [],
   "source": [
    "import astropy.units as u\n",
    "import astropy.coordinates as coord\n",
    "import matplotlib.pyplot as plt\n",
    "import numpy as np\n",
    "import gala.integrate as gi\n",
    "import gala.dynamics as gd\n",
    "import gala.potential as gp\n",
    "from gala.units import galactic"
   ]
  },
  {
   "cell_type": "markdown",
   "metadata": {},
   "source": [
    "First, define a gravitational potential."
   ]
  },
  {
   "cell_type": "code",
   "execution_count": 41,
   "metadata": {},
   "outputs": [],
   "source": [
    "pot = gp.MilkyWayPotential()"
   ]
  },
  {
   "cell_type": "markdown",
   "metadata": {},
   "source": [
    "Select a star."
   ]
  },
  {
   "cell_type": "code",
   "execution_count": 42,
   "metadata": {},
   "outputs": [],
   "source": [
    "dict1 = {\n",
    "    'ra': 136.93746493225, #degree\n",
    "    'e_ra': 0.0001,#0.4290, #degree\n",
    "    'dec': 2.75190851109, #degree\n",
    "    'e_dec': 0.0001,#0.3030, #degree\n",
    "    'dist': 102.24, #kpc\n",
    "    'e_dist': 14.60, #kpc\n",
    "    'pmra': -0.60, #mas/yr\n",
    "    'e_pmra': 0.60, #mas/yr\n",
    "    'pmdec': -0.47, #mas/yr\n",
    "    'e_pmdec': 0.39, #mas/yr\n",
    "    'rv': 831.10, #km/s\n",
    "    'e_rv': 5.70, #km/s\n",
    "    }\n",
    "\n",
    "hvs1 = coord.SkyCoord(\n",
    "    ra=dict1['ra'] * u.degree,\n",
    "    dec=dict1['dec'] * u.degree,\n",
    "    distance=dict1['dist'] * u.kpc,\n",
    "    pm_ra_cosdec=dict1['pmra'] * (u.mas / u.yr),\n",
    "    pm_dec=dict1['pmdec'] * (u.mas / u.yr),\n",
    "    radial_velocity=dict1['rv'] * (u.km / u.s),\n",
    "    frame=\"icrs\"\n",
    ")\n",
    "\n",
    "hvs1_GC = hvs1.transform_to(coord.Galactocentric)"
   ]
  },
  {
   "cell_type": "markdown",
   "metadata": {},
   "source": [
    "Set initial conditions and specify time-stepping"
   ]
  },
  {
   "cell_type": "code",
   "execution_count": 43,
   "metadata": {},
   "outputs": [],
   "source": [
    "hvs1_ics = gd.PhaseSpacePosition(pos=hvs1_GC.cartesian.xyz, vel=hvs1_GC.velocity.d_xyz)\n",
    "hvs1_orbit1 = pot.integrate_orbit(hvs1_ics, dt=0.1*u.Myr, n_steps=10000) # 1 Gyr\n",
    "hvs1_orbit2 = pot.integrate_orbit(hvs1_ics, dt=0.1*u.Myr, n_steps=5000) # 500 Myr\n",
    "hvs1_orbit3 = pot.integrate_orbit(hvs1_ics, dt=0.1*u.Myr, n_steps=1000) # 100 Myr"
   ]
  },
  {
   "cell_type": "markdown",
   "metadata": {},
   "source": [
    "Sample 100 clones from the uncertainties."
   ]
  },
  {
   "cell_type": "code",
   "execution_count": 44,
   "metadata": {},
   "outputs": [],
   "source": [
    "n_samples = 100\n",
    "ra_samples = np.random.normal(dict1['ra'], dict1['e_ra'], n_samples)\n",
    "dec_samples = np.random.normal(dict1['dec'], dict1['e_dec'], n_samples)\n",
    "dist_samples = np.random.normal(dict1['dist'], dict1['e_dist'], n_samples)\n",
    "pmra_samples = np.random.normal(dict1['pmra'], dict1['e_pmra'], n_samples)\n",
    "pmdec_samples = np.random.normal(dict1['pmdec'], dict1['e_pmdec'], n_samples)\n",
    "rv_samples = np.random.normal(dict1['rv'], dict1['e_rv'], n_samples)\n",
    "\n",
    "ics_list = []\n",
    "for ra, dec, dist, pmra, pmdec, rv in zip(ra_samples, dec_samples, dist_samples, pmra_samples, pmdec_samples, rv_samples):\n",
    "    sc = coord.SkyCoord(ra=ra * u.degree,\n",
    "                  dec=dec * u.degree,\n",
    "                  distance=dist * u.kpc,\n",
    "                  pm_ra_cosdec=pmra * (u.mas / u.yr),\n",
    "                  pm_dec=pmdec * (u.mas / u.yr),\n",
    "                  radial_velocity=rv * (u.km / u.s),\n",
    "                  frame=\"icrs\")\n",
    "    gc = sc.transform_to(coord.Galactocentric)\n",
    "    ics = gd.PhaseSpacePosition(pos=gc.cartesian.xyz, vel=gc.velocity.d_xyz)\n",
    "    ics_list.append(ics)"
   ]
  },
  {
   "cell_type": "markdown",
   "metadata": {},
   "source": [
    "Integrate all of the orbits"
   ]
  },
  {
   "cell_type": "code",
   "execution_count": 45,
   "metadata": {},
   "outputs": [],
   "source": [
    "orbits1 = []\n",
    "orbits2 = []\n",
    "orbits3 = []\n",
    "orbits1.append(hvs1_orbit1)\n",
    "orbits2.append(hvs1_orbit2)\n",
    "orbits3.append(hvs1_orbit3)\n",
    "for ics in ics_list:\n",
    "    orbit1 = pot.integrate_orbit(ics, dt=0.1*u.Myr, n_steps=10000)\n",
    "    orbit2 = pot.integrate_orbit(ics, dt=0.1*u.Myr, n_steps=5000)\n",
    "    orbit3 = pot.integrate_orbit(ics, dt=0.1*u.Myr, n_steps=1000)\n",
    "    orbits1.append(orbit1)\n",
    "    orbits2.append(orbit2)\n",
    "    orbits3.append(orbits3)"
   ]
  },
  {
   "cell_type": "markdown",
   "metadata": {},
   "source": [
    "Plot the final positions of the star after 1 Gyr"
   ]
  },
  {
   "cell_type": "code",
   "execution_count": 46,
   "metadata": {},
   "outputs": [
    {
     "data": {
      "image/png": "[encoded data removed]",
      "text/plain": [
       "<Figure size 800x600 with 1 Axes>"
      ]
     },
     "metadata": {},
     "output_type": "display_data"
    }
   ],
   "source": [
    "plt.figure(figsize=(8, 6))\n",
    "\n",
    "for i, orbit in enumerate(orbits1):\n",
    "    final_pos = orbit[-1].pos.xyz.to(u.kpc).value\n",
    "    if i == 0:\n",
    "        plt.scatter(final_pos[0], final_pos[1], c='black', label='Original')\n",
    "    else:\n",
    "        plt.scatter(final_pos[0], final_pos[1], c='red')\n",
    "\n",
    "plt.xlabel('X [kpc]')\n",
    "plt.scatter(-8,0, c='blue')\n",
    "plt.ylabel('Y [kpc]')\n",
    "plt.title('HVS1 Distribution in 1 Gyr')\n",
    "plt.legend()\n",
    "plt.axis('equal')\n",
    "plt.grid(True)\n",
    "plt.show()"
   ]
  },
  {
   "cell_type": "markdown",
   "metadata": {},
   "source": [
    "Plot the final positions of the star after 500 Myr"
   ]
  },
  {
   "cell_type": "code",
   "execution_count": null,
   "metadata": {},
   "outputs": [],
   "source": [
    "plt.figure(figsize=(8, 6))\n",
    "\n",
    "for i, orbit in enumerate(orbits2):\n",
    "    final_pos = orbit[-1].pos.xyz.to(u.kpc).value\n",
    "    if i == 0:\n",
    "        plt.scatter(final_pos[0], final_pos[1], c='black', label='Original')\n",
    "    else:\n",
    "        plt.scatter(final_pos[0], final_pos[1], c='red')\n",
    "\n",
    "plt.xlabel('X [kpc]')\n",
    "plt.scatter(-8,0, c='blue')\n",
    "plt.ylabel('Y [kpc]')\n",
    "plt.title('HVS1 Distribution in 500 Myr')\n",
    "plt.legend()\n",
    "plt.axis('equal')\n",
    "plt.grid(True)\n",
    "plt.show()"
   ]
  },
  {
   "cell_type": "markdown",
   "metadata": {},
   "source": [
    "Plot the final positions of the star after 100 Myr"
   ]
  },
  {
   "cell_type": "code",
   "execution_count": null,
   "metadata": {},
   "outputs": [],
   "source": [
    "plt.figure(figsize=(8, 6))\n",
    "\n",
    "for i, orbit in enumerate(orbits3):\n",
    "    final_pos = orbit[-1].pos.xyz.to(u.kpc).value\n",
    "    if i == 0:\n",
    "        plt.scatter(final_pos[0], final_pos[1], c='black', label='Original')\n",
    "    else:\n",
    "        plt.scatter(final_pos[0], final_pos[1], c='red')\n",
    "\n",
    "plt.xlabel('X [kpc]')\n",
    "plt.scatter(-8,0, c='blue')\n",
    "plt.ylabel('Y [kpc]')\n",
    "plt.title('HVS1 Distribution in 100 Myr')\n",
    "plt.legend()\n",
    "plt.axis('equal')\n",
    "plt.grid(True)\n",
    "plt.show()"
   ]
  },
  {
   "cell_type": "markdown",
   "metadata": {},
   "source": [
    "Plot the orbits"
   ]
  },
  {
   "cell_type": "code",
   "execution_count": 47,
   "metadata": {},
   "outputs": [],
   "source": [
    "# plt.figure(figsize=(8, 6))\n",
    "\n",
    "# n_steps = orbits[0].ntimes\n",
    "# times = np.linspace(0, 1, n_steps)\n",
    "\n",
    "# cmap_sampled = plt.colormaps['Blues']\n",
    "# cmap_original = plt.colormaps['Greys']\n",
    "\n",
    "# for i, orbit in enumerate(orbits):\n",
    "#     pos = orbit.pos.xyz.to(u.kpc).value\n",
    "#     if i == 0:\n",
    "#         colors = cmap_original(1 - times)\n",
    "#         plt.scatter(pos[0], pos[1], c=colors, s=1, label='Original', alpha=0.5)\n",
    "#     else:\n",
    "#         colors = cmap_sampled(1 - times)\n",
    "#         plt.scatter(pos[0], pos[1], c=colors, s=1, alpha=0.7)\n",
    "\n",
    "# plt.xlabel('X [kpc]')\n",
    "# plt.scatter(-8,0, c='red')\n",
    "# plt.ylabel('Y [kpc]')\n",
    "# plt.title('HVS1')\n",
    "# plt.legend()\n",
    "# plt.axis('equal')\n",
    "# plt.grid(True)\n",
    "# plt.show()\n"
   ]
  }
 ],
 "metadata": {
  "kernelspec": {
   "display_name": "base",
   "language": "python",
   "name": "python3"
  },
  "language_info": {
   "codemirror_mode": {
    "name": "ipython",
    "version": 3
   },
   "file_extension": ".py",
   "mimetype": "text/x-python",
   "name": "python",
   "nbconvert_exporter": "python",
   "pygments_lexer": "ipython3",
   "version": "3.12.2"
  }
 },
 "nbformat": 4,
 "nbformat_minor": 2
}
