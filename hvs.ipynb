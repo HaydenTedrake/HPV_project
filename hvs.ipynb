{
 "cells": [
  {
   "cell_type": "code",
   "execution_count": null,
   "metadata": {
    "vscode": {
     "languageId": "plaintext"
    }
   },
   "outputs": [],
   "source": [
    "import astropy.units as u\n",
    "import astropy.coordinates as coord\n",
    "import matplotlib.pyplot as plt\n",
    "import numpy as np\n",
    "import gala.integrate as gi\n",
    "import gala.dynamics as gd\n",
    "import gala.potential as gp\n",
    "from gala.units import galactic"
   ]
  },
  {
   "cell_type": "markdown",
   "metadata": {},
   "source": [
    "First, define a gravitational potential."
   ]
  },
  {
   "cell_type": "code",
   "execution_count": null,
   "metadata": {
    "vscode": {
     "languageId": "plaintext"
    }
   },
   "outputs": [],
   "source": [
    "pot = gp.MilkyWayPotential()"
   ]
  },
  {
   "cell_type": "markdown",
   "metadata": {},
   "source": [
    "Select a star."
   ]
  },
  {
   "cell_type": "code",
   "execution_count": null,
   "metadata": {
    "vscode": {
     "languageId": "plaintext"
    }
   },
   "outputs": [],
   "source": [
    "hvs1 = coord.SkyCoord(\n",
    "    ra=136.93746493225 * u.degree,\n",
    "    dec=2.75190851109 * u.degree,\n",
    "    distance=102.24 * u.kpc,\n",
    "    pm_ra_cosdec=-0.60 * (u.mas / u.yr),\n",
    "    pm_dec=-0.47 * (u.mas / u.yr),\n",
    "    radial_velocity=0.37 * (u.km / u.s),\n",
    "    frame=\"icrs\"\n",
    ")\n",
    "GC = hvs1.transform_to(coord.Galactocentric)"
   ]
  },
  {
   "cell_type": "markdown",
   "metadata": {},
   "source": [
    "Set initial conditions and specify time-stepping"
   ]
  },
  {
   "cell_type": "code",
   "execution_count": null,
   "metadata": {
    "vscode": {
     "languageId": "plaintext"
    }
   },
   "outputs": [],
   "source": [
    "ics = gd.PhaseSpacePosition(pos=GC.cartesian.xyz, vel=GC.velocity.d_xyz)\n",
    "orbit = pot.integrate_orbit(ics, dt=1*u.Myr, n_steps=100)"
   ]
  },
  {
   "cell_type": "markdown",
   "metadata": {},
   "source": [
    "Integrating orbits in parallel"
   ]
  },
  {
   "cell_type": "code",
   "execution_count": null,
   "metadata": {
    "vscode": {
     "languageId": "plaintext"
    }
   },
   "outputs": [],
   "source": [
    "norbits = 128\n",
    "new_pos = np.random.normal(ics.pos.xyz.to(u.pc).value, 100., size=(norbits,3)).T * u.pc\n",
    "new_vel = np.random.normal(ics.vel.d_xyz.to(u.km/u.s).value, 1., size=(norbits,3)).T * u.km/u.s\n",
    "new_ics = gd.PhaseSpacePosition(pos=new_pos, vel=new_vel)\n",
    "orbits = pot.integrate_orbit(new_ics, dt=1., n_steps=100)"
   ]
  },
  {
   "cell_type": "markdown",
   "metadata": {},
   "source": [
    "Plot the first particle"
   ]
  },
  {
   "cell_type": "code",
   "execution_count": null,
   "metadata": {
    "vscode": {
     "languageId": "plaintext"
    }
   },
   "outputs": [],
   "source": [
    "times = np.arange(orbits.ntimes)\n",
    "pos_output = orbits[:,0].pos.xyz.value\n",
    "\n",
    "plt.figure()\n",
    "plt.scatter(pos_output[0,:], pos_output[1,:],\n",
    "            c=times, cmap='Spectral',s=1)\n",
    "plt.colorbar()\n",
    "plt.xlabel('X Value')\n",
    "plt.ylabel('Y Value')\n",
    "plt.title('Y vs X')\n",
    "plt.show()"
   ]
  }
 ],
 "metadata": {
  "language_info": {
   "name": "python"
  }
 },
 "nbformat": 4,
 "nbformat_minor": 2
}
