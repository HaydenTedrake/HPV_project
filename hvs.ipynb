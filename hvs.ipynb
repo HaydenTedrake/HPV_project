{
 "cells": [
  {
   "cell_type": "code",
   "execution_count": 11,
   "metadata": {},
   "outputs": [],
   "source": [
    "import astropy.units as u\n",
    "import astropy.coordinates as coord\n",
    "import matplotlib.pyplot as plt\n",
    "import numpy as np\n",
    "import gala.integrate as gi\n",
    "import gala.dynamics as gd\n",
    "import gala.potential as gp\n",
    "from gala.units import galactic"
   ]
  },
  {
   "cell_type": "markdown",
   "metadata": {},
   "source": [
    "First, define a gravitational potential."
   ]
  },
  {
   "cell_type": "code",
   "execution_count": 12,
   "metadata": {},
   "outputs": [],
   "source": [
    "pot = gp.MilkyWayPotential()"
   ]
  },
  {
   "cell_type": "markdown",
   "metadata": {},
   "source": [
    "Select a star."
   ]
  },
  {
   "cell_type": "code",
   "execution_count": 17,
   "metadata": {},
   "outputs": [],
   "source": [
    "dict1 = {\n",
    "    'ra': 136.93746493225, #degree\n",
    "    'e_ra': 0.4290, #degree\n",
    "    'dec': 2.75190851109, #degree\n",
    "    'e_dec': 0.3030, #degree\n",
    "    'dist': 102.24, #kpc\n",
    "    'e_dist': 14.60, #kpc\n",
    "    'pmra': -0.60, #mas/yr\n",
    "    'e_pmra': 0.60, #mas/yr\n",
    "    'pmdec': -0.47, #mas/yr\n",
    "    'e_pmdec': 0.39, #mas/yr\n",
    "    'rv': 831.10, #km/s\n",
    "    'e_rv': 5.70, #km/s\n",
    "    }\n",
    "\n",
    "hvs1 = coord.SkyCoord(\n",
    "    ra=dict1['ra'] * u.degree,\n",
    "    dec=dict1['dec'] * u.degree,\n",
    "    distance=dict1['dist'] * u.kpc,\n",
    "    pm_ra_cosdec=dict1['pmra'] * (u.mas / u.yr),\n",
    "    pm_dec=dict1['pmdec'] * (u.mas / u.yr),\n",
    "    radial_velocity=dict1['rv'] * (u.km / u.s),\n",
    "    frame=\"icrs\"\n",
    ")\n",
    "\n",
    "GC = hvs1.transform_to(coord.Galactocentric)"
   ]
  },
  {
   "cell_type": "markdown",
   "metadata": {},
   "source": [
    "Set initial conditions and specify time-stepping"
   ]
  },
  {
   "cell_type": "code",
   "execution_count": 18,
   "metadata": {},
   "outputs": [],
   "source": [
    "ics = gd.PhaseSpacePosition(pos=GC.cartesian.xyz, vel=GC.velocity.d_xyz)\n",
    "orbit = pot.integrate_orbit(ics, dt=1*u.Myr, n_steps=1000)"
   ]
  },
  {
   "cell_type": "markdown",
   "metadata": {},
   "source": [
    "Sample 100 clones from the uncertainties."
   ]
  },
  {
   "cell_type": "code",
   "execution_count": 22,
   "metadata": {},
   "outputs": [],
   "source": [
    "n_samples = 100\n",
    "ra_samples = np.random.normal(dict1['ra'], dict1['e_ra'], n_samples)\n",
    "dec_samples = np.random.normal(dict1['dec'], dict1['e_dec'], n_samples)\n",
    "dist_samples = np.random.normal(dict1['dist'], dict1['e_dist'], n_samples)\n",
    "pmra_samples = np.random.normal(dict1['pmra'], dict1['e_pmra'], n_samples)\n",
    "pmdec_samples = np.random.normal(dict1['pmdec'], dict1['e_pmdec'], n_samples)\n",
    "rv_samples = np.random.normal(dict1['rv'], dict1['e_rv'], n_samples)\n",
    "\n",
    "ics_list = []\n",
    "for ra, dec, dist, pmra, pmdec, rv in zip(ra_samples, dec_samples, dist_samples, pmra_samples, pmdec_samples, rv_samples):\n",
    "    sc = coord.SkyCoord(ra=ra * u.degree,\n",
    "                  dec=dec * u.degree,\n",
    "                  distance=dist * u.kpc,\n",
    "                  pm_ra_cosdec=pmra * (u.mas / u.yr),\n",
    "                  pm_dec=pmdec * (u.mas / u.yr),\n",
    "                  radial_velocity=rv * (u.km / u.s),\n",
    "                  frame=\"icrs\")\n",
    "    gc = sc.transform_to(coord.Galactocentric)\n",
    "    ics = gd.PhaseSpacePosition(pos=gc.cartesian.xyz, vel=gc.velocity.d_xyz)\n",
    "    ics_list.append(ics)"
   ]
  },
  {
   "cell_type": "markdown",
   "metadata": {},
   "source": [
    "Integrate all of the orbits"
   ]
  },
  {
   "cell_type": "code",
   "execution_count": 23,
   "metadata": {},
   "outputs": [],
   "source": [
    "orbits = []\n",
    "for ics in ics_list:\n",
    "    orbit = pot.integrate_orbit(ics, dt=1*u.Myr, n_steps=100)\n",
    "    orbits.append(orbit)"
   ]
  }
 ],
 "metadata": {
  "kernelspec": {
   "display_name": "base",
   "language": "python",
   "name": "python3"
  },
  "language_info": {
   "codemirror_mode": {
    "name": "ipython",
    "version": 3
   },
   "file_extension": ".py",
   "mimetype": "text/x-python",
   "name": "python",
   "nbconvert_exporter": "python",
   "pygments_lexer": "ipython3",
   "version": "3.12.2"
  }
 },
 "nbformat": 4,
 "nbformat_minor": 2
}
