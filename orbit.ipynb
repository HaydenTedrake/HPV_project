{
 "cells": [
  {
   "cell_type": "code",
   "execution_count": 2,
   "metadata": {},
   "outputs": [],
   "source": [
    "import astropy.units as u\n",
    "import astropy.coordinates as coord\n",
    "import matplotlib.pyplot as plt\n",
    "import numpy as np\n",
    "import gala.integrate as gi\n",
    "import gala.dynamics as gd\n",
    "import gala.potential as gp\n",
    "from gala.potential import NFWPotential\n",
    "from gala.units import galactic"
   ]
  },
  {
   "cell_type": "markdown",
   "metadata": {},
   "source": [
    "First, define a gravitational potential."
   ]
  },
  {
   "cell_type": "code",
   "execution_count": null,
   "metadata": {},
   "outputs": [],
   "source": [
    "pot = gp.MilkyWayPotential()\n",
    "\n",
    "# star\n",
    "hvs1 = coord.SkyCoord(\n",
    "    ra=136.93746493225 * u.degree,\n",
    "    dec=2.75190851109 * u.degree,\n",
    "    distance=102.24 * u.kpc,\n",
    "    pm_ra_cosdec=-0.60 * (u.mas / u.yr),\n",
    "    pm_dec=-0.47 * (u.mas / u.yr),\n",
    "    radial_velocity=0.37 * (u.km / u.s),\n",
    "    frame=\"icrs\"\n",
    ")\n",
    "GC = hvs1.transform_to(coord.Galactocentric)\n",
    "\n",
    "# set initial conditions and specify time-stepping\n",
    "ics = gd.PhaseSpacePosition(pos=GC.cartesian.xyz, vel=GC.velocity.d_xyz)\n",
    "orbit = pot.integrate_orbit(ics, dt=1*u.Myr, n_steps=100)\n",
    "\n",
    "# integrating orbits in parallel\n",
    "norbits = 128\n",
    "new_pos = np.random.normal(ics.pos.xyz.to(u.pc).value, 100., size=(norbits,3)).T * u.pc\n",
    "new_vel = np.random.normal(ics.vel.d_xyz.to(u.km/u.s).value, 1., size=(norbits,3)).T * u.km/u.s\n",
    "new_ics = gd.PhaseSpacePosition(pos=new_pos, vel=new_vel)\n",
    "orbits = pot.integrate_orbit(new_ics, dt=1., n_steps=100)\n",
    "\n",
    "# plot the first particle\n",
    "times = np.arange(orbits.ntimes)\n",
    "pos_output = orbits[:,0].pos.xyz.value\n",
    "\n",
    "plt.figure()\n",
    "plt.scatter(pos_output[0,:], pos_output[1,:],\n",
    "            c=times, cmap='Spectral',s=1)\n",
    "plt.colorbar()\n",
    "plt.xlabel('X Value')\n",
    "plt.ylabel('Y Value')\n",
    "plt.title('Y vs X')\n",
    "plt.show()"
   ]
  }
 ],
 "metadata": {
  "kernelspec": {
   "display_name": "base",
   "language": "python",
   "name": "python3"
  },
  "language_info": {
   "codemirror_mode": {
    "name": "ipython",
    "version": 3
   },
   "file_extension": ".py",
   "mimetype": "text/x-python",
   "name": "python",
   "nbconvert_exporter": "python",
   "pygments_lexer": "ipython3",
   "version": "3.12.2"
  }
 },
 "nbformat": 4,
 "nbformat_minor": 2
}
