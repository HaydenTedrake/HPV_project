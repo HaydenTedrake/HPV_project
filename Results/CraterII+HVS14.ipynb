{
 "cells": [
  {
   "cell_type": "code",
   "execution_count": 21,
   "metadata": {},
   "outputs": [],
   "source": [
    "import astropy.units as u\n",
    "import astropy.coordinates as coord\n",
    "import matplotlib.pyplot as plt\n",
    "import numpy as np\n",
    "import gala.dynamics as gd\n",
    "import gala.potential as gp\n",
    "import matplotlib.cm as cm\n",
    "import matplotlib.gridspec as gridspec\n",
    "from scipy.optimize import minimize_scalar\n",
    "from matplotlib.patches import Ellipse"
   ]
  },
  {
   "cell_type": "markdown",
   "metadata": {},
   "source": [
    "Helper Functions"
   ]
  },
  {
   "cell_type": "code",
   "execution_count": 22,
   "metadata": {},
   "outputs": [],
   "source": [
    "def sample(dict, ics):\n",
    "    n_samples = 100\n",
    "    ra_samples = np.random.normal(dict['ra'], dict['e_ra'], n_samples)\n",
    "    dec_samples = np.random.normal(dict['dec'], dict['e_dec'], n_samples)\n",
    "    dist_samples = np.random.normal(dict['dist'], dict['e_dist'], n_samples)\n",
    "    pmra_samples = np.random.normal(dict['pmra'], dict['e_pmra'], n_samples)\n",
    "    pmdec_samples = np.random.normal(dict['pmdec'], dict['e_pmdec'], n_samples)\n",
    "    rv_samples = np.random.normal(dict['rv'], dict['e_rv'], n_samples)\n",
    "\n",
    "    ics_list = []\n",
    "    ics_list.append(ics)\n",
    "    for ra, dec, dist, pmra, pmdec, rv in zip(ra_samples, dec_samples, dist_samples, pmra_samples, pmdec_samples, rv_samples):\n",
    "        sc = coord.SkyCoord(ra=ra * u.degree,\n",
    "                    dec=dec * u.degree,\n",
    "                    distance=dist * u.kpc,\n",
    "                    pm_ra_cosdec=pmra * (u.mas / u.yr),\n",
    "                    pm_dec=pmdec * (u.mas / u.yr),\n",
    "                    radial_velocity=rv * (u.km / u.s),\n",
    "                    frame=\"icrs\")\n",
    "        gc = sc.transform_to(coord.Galactocentric)\n",
    "        ics = gd.PhaseSpacePosition(pos=gc.cartesian.xyz, vel=gc.velocity.d_xyz)\n",
    "        ics_list.append(ics)\n",
    "    \n",
    "    return ics_list\n",
    "\n",
    "def calculate_orbits(dict, ics, num_steps):\n",
    "    ics_list = sample(dict, ics)\n",
    "\n",
    "    orbits = []\n",
    "    orbits.append(orbit)\n",
    "    for ics in ics_list:\n",
    "        orbit = pot.integrate_orbit(ics, dt=-0.1*u.Myr, n_steps=num_steps)\n",
    "        orbits.append(orbit)\n",
    "\n",
    "    return orbits\n",
    "\n",
    "def plot_ellipse(x_vals, y_vals):\n",
    "    pos = np.column_stack((x_vals, y_vals))\n",
    "    mean = np.mean(pos, axis=0)\n",
    "    cov = np.cov(pos, rowvar=False)\n",
    "\n",
    "    eigvals, eigvecs = np.linalg.eigh(cov)\n",
    "    order = eigvals.argsort()[::-1]\n",
    "    eigvals, eigvecs = eigvals[order], eigvecs[:, order]\n",
    "\n",
    "    angle = np.degrees(np.arctan2(*eigvecs[:, 0][::-1]))\n",
    "\n",
    "    fig, ax = plt.subplots(figsize=(4, 3))\n",
    "    ax.scatter(x_vals, y_vals, s=3, color='red', alpha=0.5)\n",
    "\n",
    "    # Confidence levels: 1σ (68%), 2σ (95%), 3σ (99.7%)\n",
    "    for nsig in [1, 2, 3]:\n",
    "        width, height = 2 * nsig * np.sqrt(eigvals)\n",
    "        ellipse = Ellipse(xy=mean, width=width, height=height, angle=angle,\n",
    "                          edgecolor='blue', fc='None', lw=2, label=f\"{nsig}σ\")\n",
    "        ax.add_patch(ellipse)\n",
    "\n",
    "    ax.set_xlabel(f\"X [kpc]\")\n",
    "    ax.set_ylabel(f\"Y [kpc]\")\n",
    "    ax.grid(True)\n",
    "    plt.tight_layout()\n",
    "    plt.show()\n",
    "\n",
    "def calculate_distance(num_steps, ics):\n",
    "    orbit = pot.integrate_orbit(ics, dt=-0.1*u.Myr, n_steps=num_steps)\n",
    "    final_z = orbit[-1].pos.xyz.to(u.kpc).value[2]\n",
    "    return final_z\n",
    "\n",
    "def plot_mw(dict, ics):\n",
    "    ics_list = sample(dict, ics)\n",
    "\n",
    "    points = []\n",
    "    for ics in ics_list:\n",
    "        result = minimize_scalar(\n",
    "            calculate_distance,\n",
    "            args=(ics),\n",
    "            bounds=(0, 3000),  # search between 0 and 3000 steps (300 Myr)\n",
    "            method='bounded'\n",
    "        )\n",
    "        orbit = pot.integrate_orbit(ics, dt=-0.1*u.Myr, n_steps=result.x)\n",
    "        final_pos = orbit[-1].pos.xyz.to(u.kpc).value[:2]\n",
    "        points.append(final_pos)\n",
    "\n",
    "    points = np.array(points)\n",
    "\n",
    "    x = points[:, 0]\n",
    "    y = points[:, 1]\n",
    "\n",
    "    plot_ellipse(x, y)"
   ]
  },
  {
   "cell_type": "markdown",
   "metadata": {},
   "source": [
    "First, define a gravitational potential."
   ]
  },
  {
   "cell_type": "code",
   "execution_count": 23,
   "metadata": {},
   "outputs": [],
   "source": [
    "pot = gp.MilkyWayPotential()"
   ]
  },
  {
   "cell_type": "markdown",
   "metadata": {},
   "source": [
    "Crater II"
   ]
  },
  {
   "cell_type": "code",
   "execution_count": 24,
   "metadata": {},
   "outputs": [],
   "source": [
    "dwarf_dict = {\n",
    "    'ra': 177.310, #degree\n",
    "    'e_ra': 0.03, #degree\n",
    "    'dec': -18.413, #degree\n",
    "    'e_dec': 0.03, #degree\n",
    "    'dist': 117.5, #kpc\n",
    "    'e_dist': 1.1, #kpc\n",
    "    'pmra': -0.07, #mas/yr\n",
    "    'e_pmra': 0.02, #mas/yr\n",
    "    'pmdec': -0.11, #mas/yr\n",
    "    'e_pmdec': 0.01, #mas/yr\n",
    "    'rv': 87.5, #km/s\n",
    "    'e_rv': 0.4, #km/s\n",
    "    }\n",
    "dwarf = coord.SkyCoord(\n",
    "    ra=dwarf_dict['ra'] * u.degree,\n",
    "    dec=dwarf_dict['dec'] * u.degree,\n",
    "    distance=dwarf_dict['dist'] * u.kpc,\n",
    "    pm_ra_cosdec=dwarf_dict['pmra'] * (u.mas / u.yr),\n",
    "    pm_dec=dwarf_dict['pmdec'] * (u.mas / u.yr),\n",
    "    radial_velocity=dwarf_dict['rv'] * (u.km / u.s),\n",
    "    frame=\"icrs\"\n",
    ")\n",
    "dwarf_GC = dwarf.transform_to(coord.Galactocentric)\n",
    "dwarf_ics = gd.PhaseSpacePosition(pos=dwarf_GC.cartesian.xyz, vel=dwarf_GC.velocity.d_xyz)"
   ]
  },
  {
   "cell_type": "markdown",
   "metadata": {},
   "source": [
    "HVS 14"
   ]
  },
  {
   "cell_type": "code",
   "execution_count": 25,
   "metadata": {},
   "outputs": [],
   "source": [
    "dict14 = {\n",
    "    'ra': 161.0072805184, #degree\n",
    "    'e_ra': 0.0001, #degree\n",
    "    'dec': 6.1941762509, #degree\n",
    "    'e_dec': 0.0001, #degree\n",
    "    'dist': 102.66, #kpc\n",
    "    'e_dist': 16.55, #kpc\n",
    "    'pmra': -2.17, #mas/yr\n",
    "    'e_pmra': 1.38, #mas/yr\n",
    "    'pmdec': 2.28, #mas/yr\n",
    "    'e_pmdec': 1.68, #mas/yr\n",
    "    'rv': 537.30, #km/s\n",
    "    'e_rv': 7.20, #km/s\n",
    "    }\n",
    "hvs14 = coord.SkyCoord(\n",
    "    ra=dict14['ra'] * u.degree,\n",
    "    dec=dict14['dec'] * u.degree,\n",
    "    distance=dict14['dist'] * u.kpc,\n",
    "    pm_ra_cosdec=dict14['pmra'] * (u.mas / u.yr),\n",
    "    pm_dec=dict14['pmdec'] * (u.mas / u.yr),\n",
    "    radial_velocity=dict14['rv'] * (u.km / u.s),\n",
    "    frame=\"icrs\"\n",
    ")\n",
    "hvs14_GC = hvs14.transform_to(coord.Galactocentric)\n",
    "hvs14_ics = gd.PhaseSpacePosition(pos=hvs14_GC.cartesian.xyz, vel=hvs14_GC.velocity.d_xyz)"
   ]
  },
  {
   "cell_type": "markdown",
   "metadata": {},
   "source": [
    "Milky Way Plot (z=0)"
   ]
  },
  {
   "cell_type": "code",
   "execution_count": 26,
   "metadata": {},
   "outputs": [
    {
     "data": {
      "image/png": "[encoded data removed]",
      "text/plain": [
       "<Figure size 400x300 with 1 Axes>"
      ]
     },
     "metadata": {},
     "output_type": "display_data"
    }
   ],
   "source": [
    "plot_mw(dict14, hvs14_ics)"
   ]
  },
  {
   "cell_type": "markdown",
   "metadata": {},
   "source": [
    "Galaxy Plot"
   ]
  },
  {
   "cell_type": "code",
   "execution_count": 27,
   "metadata": {},
   "outputs": [
    {
     "ename": "UnboundLocalError",
     "evalue": "cannot access local variable 'orbit' where it is not associated with a value",
     "output_type": "error",
     "traceback": [
      "\u001b[0;31m---------------------------------------------------------------------------\u001b[0m",
      "\u001b[0;31mUnboundLocalError\u001b[0m                         Traceback (most recent call last)",
      "Cell \u001b[0;32mIn[27], line 3\u001b[0m\n\u001b[1;32m      1\u001b[0m min14 \u001b[38;5;241m=\u001b[39m \u001b[38;5;241m366.5427377870987\u001b[39m\n\u001b[0;32m----> 3\u001b[0m orbits \u001b[38;5;241m=\u001b[39m calculate_orbits(dict14, hvs14_ics, min14)\n\u001b[1;32m      4\u001b[0m dwarf_orbits \u001b[38;5;241m=\u001b[39m calculate_orbits(dwarf_dict, dwarf_ics, min14)\n\u001b[1;32m      6\u001b[0m n_orbits \u001b[38;5;241m=\u001b[39m \u001b[38;5;28mlen\u001b[39m(orbits)\n",
      "Cell \u001b[0;32mIn[22], line 30\u001b[0m, in \u001b[0;36mcalculate_orbits\u001b[0;34m(dict, ics, num_steps)\u001b[0m\n\u001b[1;32m     27\u001b[0m ics_list \u001b[38;5;241m=\u001b[39m sample(\u001b[38;5;28mdict\u001b[39m, ics)\n\u001b[1;32m     29\u001b[0m orbits \u001b[38;5;241m=\u001b[39m []\n\u001b[0;32m---> 30\u001b[0m orbits\u001b[38;5;241m.\u001b[39mappend(orbit)\n\u001b[1;32m     31\u001b[0m \u001b[38;5;28;01mfor\u001b[39;00m ics \u001b[38;5;129;01min\u001b[39;00m ics_list:\n\u001b[1;32m     32\u001b[0m     orbit \u001b[38;5;241m=\u001b[39m pot\u001b[38;5;241m.\u001b[39mintegrate_orbit(ics, dt\u001b[38;5;241m=\u001b[39m\u001b[38;5;241m-\u001b[39m\u001b[38;5;241m0.1\u001b[39m\u001b[38;5;241m*\u001b[39mu\u001b[38;5;241m.\u001b[39mMyr, n_steps\u001b[38;5;241m=\u001b[39mnum_steps)\n",
      "\u001b[0;31mUnboundLocalError\u001b[0m: cannot access local variable 'orbit' where it is not associated with a value"
     ]
    }
   ],
   "source": [
    "min14 = 366.5427377870987\n",
    "\n",
    "orbits = calculate_orbits(dict14, hvs14_ics, min14)\n",
    "dwarf_orbits = calculate_orbits(dwarf_dict, dwarf_ics, min14)\n",
    "\n",
    "n_orbits = len(orbits)\n",
    "colors = cm.viridis(np.linspace(0, 1, n_orbits))\n",
    "\n",
    "fig = plt.figure(figsize=(15, 5))\n",
    "gs = gridspec.GridSpec(1, 3, wspace=0.3)\n",
    "\n",
    "# XY\n",
    "ax_xy = fig.add_subplot(gs[0, 0])\n",
    "for i, orbit in enumerate(orbits):\n",
    "    pos = orbit.pos.xyz.value\n",
    "    ax_xy.plot(pos[0], pos[1], color=colors[i], lw=0.1, alpha=0.7)\n",
    "    ax_xy.scatter(pos[0, -1], pos[1, -1], color=colors[i], marker='o', s=0.5)\n",
    "for orbit in dwarf_orbits:\n",
    "    pos = orbit.pos.xyz.value\n",
    "    plt.plot(pos[0], pos[1], color='black', lw=0.1, alpha=0.5)\n",
    "    plt.scatter(pos[0, -1], pos[1, -1], color='black', marker='o', s=0.2)\n",
    "ax_xy.set_xlabel('X [kpc]')\n",
    "ax_xy.set_ylabel('Y [kpc]')\n",
    "ax_xy.set_title('XY Projection')\n",
    "ax_xy.axis('equal')\n",
    "ax_xy.grid(True)\n",
    "\n",
    "# XZ\n",
    "ax_xz = fig.add_subplot(gs[0, 1])\n",
    "for i, orbit in enumerate(orbits):\n",
    "    pos = orbit.pos.xyz.value\n",
    "    ax_xz.plot(pos[0], pos[2], color=colors[i], lw=0.1, alpha=0.7)\n",
    "    ax_xz.scatter(pos[0, -1], pos[2, -1], color=colors[i], marker='o', s=0.5)\n",
    "for orbit in dwarf_orbits:\n",
    "    pos = orbit.pos.xyz.value\n",
    "    plt.plot(pos[0], pos[2], color='black', lw=0.1, alpha=0.5)\n",
    "    plt.scatter(pos[0, -1], pos[2, -1], color='black', marker='o', s=0.2)\n",
    "ax_xz.set_xlabel('X [kpc]')\n",
    "ax_xz.set_ylabel('Z [kpc]')\n",
    "ax_xz.set_title('XZ Projection')\n",
    "ax_xz.axis('equal')\n",
    "ax_xz.grid(True)\n",
    "\n",
    "# YZ\n",
    "ax_yz = fig.add_subplot(gs[0, 2])\n",
    "for i, orbit in enumerate(orbits):\n",
    "    pos = orbit.pos.xyz.value\n",
    "    ax_yz.plot(pos[1], pos[2], color=colors[i], lw=0.1, alpha=0.7)\n",
    "    ax_yz.scatter(pos[1, -1], pos[2, -1], color=colors[i], marker='o', s=0.5)\n",
    "for orbit in dwarf_orbits:\n",
    "    pos = orbit.pos.xyz.value\n",
    "    plt.plot(pos[1], pos[2], color='black', lw=0.1, alpha=0.5)\n",
    "    plt.scatter(pos[1, -1], pos[2, -1], color='black', marker='o', s=0.2)\n",
    "ax_yz.set_xlabel('Y [kpc]')\n",
    "ax_yz.set_ylabel('Z [kpc]')\n",
    "ax_yz.set_title('YZ Projection')\n",
    "ax_yz.axis('equal')\n",
    "ax_yz.grid(True)\n",
    "\n",
    "plt.tight_layout(rect=[0, 0, 1, 0.95])\n",
    "plt.show()"
   ]
  }
 ],
 "metadata": {
  "kernelspec": {
   "display_name": "base",
   "language": "python",
   "name": "python3"
  },
  "language_info": {
   "codemirror_mode": {
    "name": "ipython",
    "version": 3
   },
   "file_extension": ".py",
   "mimetype": "text/x-python",
   "name": "python",
   "nbconvert_exporter": "python",
   "pygments_lexer": "ipython3",
   "version": "3.12.2"
  }
 },
 "nbformat": 4,
 "nbformat_minor": 2
}
