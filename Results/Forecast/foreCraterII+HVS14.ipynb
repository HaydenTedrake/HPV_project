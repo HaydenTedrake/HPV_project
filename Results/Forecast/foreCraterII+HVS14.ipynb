{
 "cells": [
  {
   "cell_type": "code",
   "execution_count": 22,
   "metadata": {},
   "outputs": [],
   "source": [
    "import astropy.units as u\n",
    "import astropy.coordinates as coord\n",
    "import matplotlib.pyplot as plt\n",
    "import numpy as np\n",
    "import gala.dynamics as gd\n",
    "import gala.potential as gp\n",
    "import matplotlib.cm as cm\n",
    "import matplotlib.gridspec as gridspec\n",
    "from scipy.optimize import minimize_scalar\n",
    "from matplotlib.patches import Ellipse\n",
    "from scipy.spatial.distance import mahalanobis\n",
    "from scipy.stats import chi2"
   ]
  },
  {
   "cell_type": "markdown",
   "metadata": {},
   "source": [
    "Helper Functions"
   ]
  },
  {
   "cell_type": "code",
   "execution_count": 23,
   "metadata": {},
   "outputs": [],
   "source": [
    "def sample(dict, ics, n_samples=100):\n",
    "    ra_samples = np.random.normal(dict['ra'], dict['e_ra'], n_samples)\n",
    "    dec_samples = np.random.normal(dict['dec'], dict['e_dec'], n_samples)\n",
    "    dist_samples = np.random.normal(dict['dist'], dict['e_dist'], n_samples)\n",
    "    pmra_samples = np.random.normal(dict['pmra'], dict['e_pmra'], n_samples)\n",
    "    pmdec_samples = np.random.normal(dict['pmdec'], dict['e_pmdec'], n_samples)\n",
    "    rv_samples = np.random.normal(dict['rv'], dict['e_rv'], n_samples)\n",
    "\n",
    "    ics_list = []\n",
    "    ics_list.append(ics)\n",
    "    for ra, dec, dist, pmra, pmdec, rv in zip(ra_samples, dec_samples, dist_samples, pmra_samples, pmdec_samples, rv_samples):\n",
    "        sc = coord.SkyCoord(ra=ra * u.degree,\n",
    "                    dec=dec * u.degree,\n",
    "                    distance=dist * u.kpc,\n",
    "                    pm_ra_cosdec=pmra * (u.mas / u.yr),\n",
    "                    pm_dec=pmdec * (u.mas / u.yr),\n",
    "                    radial_velocity=rv * (u.km / u.s),\n",
    "                    frame=\"icrs\")\n",
    "        gc = sc.transform_to(coord.Galactocentric)\n",
    "        ics = gd.PhaseSpacePosition(pos=gc.cartesian.xyz, vel=gc.velocity.d_xyz)\n",
    "        ics_list.append(ics)\n",
    "    \n",
    "    return ics_list\n",
    "\n",
    "def calculate_orbits(dict, ics, num_steps):\n",
    "    ics_list = sample(dict, ics)\n",
    "\n",
    "    orbits = []\n",
    "    for ics in ics_list:\n",
    "        orbit = pot.integrate_orbit(ics, dt=-0.1*u.Myr, n_steps=num_steps)\n",
    "        orbits.append(orbit)\n",
    "\n",
    "    return orbits\n",
    "\n",
    "def plot_ellipse(x_vals, y_vals, plane=\"XY\"):\n",
    "    pos = np.column_stack((x_vals, y_vals))\n",
    "    mean = np.mean(pos, axis=0)\n",
    "    cov = np.cov(pos, rowvar=False)\n",
    "\n",
    "    eigvals, eigvecs = np.linalg.eigh(cov)\n",
    "    order = eigvals.argsort()[::-1]\n",
    "    eigvals, eigvecs = eigvals[order], eigvecs[:, order]\n",
    "\n",
    "    angle = np.degrees(np.arctan2(*eigvecs[:, 0][::-1]))\n",
    "\n",
    "    fig, ax = plt.subplots(figsize=(4, 3))\n",
    "    ax.scatter(x_vals, y_vals, s=3, color='red', alpha=0.5)\n",
    "\n",
    "    # Confidence levels: 1σ (68%), 2σ (95%), 3σ (99.7%)\n",
    "    for nsig in [1, 2, 3]:\n",
    "        width, height = 2 * nsig * np.sqrt(eigvals)\n",
    "        ellipse = Ellipse(xy=mean, width=width, height=height, angle=angle,\n",
    "                          edgecolor='blue', fc='None', lw=2, label=f\"{nsig}σ\")\n",
    "        ax.add_patch(ellipse)\n",
    "\n",
    "    ax.set_xlabel(f\"{plane[0]} [kpc]\")\n",
    "    ax.set_ylabel(f\"{plane[1]} [kpc]\")\n",
    "    ax.grid(True)\n",
    "    plt.tight_layout()\n",
    "    plt.xlim(-40, 40)\n",
    "    plt.ylim(-120, -20)\n",
    "    plt.savefig('foreCraterII.png')\n",
    "    plt.show()\n",
    "\n",
    "def distance_mw(num_steps, ics):\n",
    "    orbit = pot.integrate_orbit(ics, dt=-0.1*u.Myr, n_steps=num_steps)\n",
    "    final_z = orbit[-1].pos.xyz.to(u.kpc).value[2]\n",
    "    return abs(final_z)\n",
    "\n",
    "def plot_closest(dict, ics, function, mw=False, target=[0,0,0]):\n",
    "    ics_list = sample(dict, ics, 1000)\n",
    "\n",
    "    k=3\n",
    "\n",
    "    points = []\n",
    "    times = []\n",
    "    for ics in ics_list:\n",
    "        result = minimize_scalar(\n",
    "            function,\n",
    "            args=(ics,),\n",
    "            bounds=(0, 8000),  # search between 0 and 8000 steps (800 Myr)\n",
    "            method='bounded'\n",
    "        )\n",
    "        orbit = pot.integrate_orbit(ics, dt=-0.1*u.Myr, n_steps=int(result.x))\n",
    "        times.append(int(result.x)*0.1)\n",
    "        final_pos = orbit[-1].pos.xyz.to(u.kpc).value[:k]\n",
    "        points.append(final_pos)\n",
    "\n",
    "    points = np.array(points)\n",
    "\n",
    "    if mw==True:\n",
    "        x = points[:, 0]\n",
    "        y = points[:, 1]\n",
    "\n",
    "        plot_ellipse(x, y)\n",
    "    else:\n",
    "        x = points[:, 0]\n",
    "        y = points[:, 1]\n",
    "        z = points[:, 2]\n",
    "\n",
    "        plot_ellipse(x, y, \"XY\")\n",
    "        # plot_ellipse(x, z, \"XZ\")\n",
    "        # plot_ellipse(y, z, \"YZ\")\n",
    "\n",
    "    # mahalanobis distance\n",
    "    target = np.array(target)\n",
    "    mean = np.mean(points, axis=0)\n",
    "    cov = np.cov(points, rowvar=False)\n",
    "    inv_cov = np.linalg.inv(cov)\n",
    "\n",
    "    mahal_dist = mahalanobis(target, mean, inv_cov)\n",
    "    \n",
    "    p_value = 1 - chi2.cdf(mahal_dist**2, df=k)\n",
    "\n",
    "    return p_value, times"
   ]
  },
  {
   "cell_type": "markdown",
   "metadata": {},
   "source": [
    "First, define a gravitational potential."
   ]
  },
  {
   "cell_type": "code",
   "execution_count": 24,
   "metadata": {},
   "outputs": [],
   "source": [
    "pot = gp.MilkyWayPotential()"
   ]
  },
  {
   "cell_type": "markdown",
   "metadata": {},
   "source": [
    "Crater II"
   ]
  },
  {
   "cell_type": "code",
   "execution_count": 25,
   "metadata": {},
   "outputs": [],
   "source": [
    "dwarf_dict = {\n",
    "    'ra': 177.310, #degree\n",
    "    'e_ra': 0.03, #degree\n",
    "    'dec': -18.413, #degree\n",
    "    'e_dec': 0.03, #degree\n",
    "    'dist': 117.5, #kpc\n",
    "    'e_dist': 1.1, #kpc\n",
    "    'pmra': -0.07, #mas/yr\n",
    "    'e_pmra': 0.02, #mas/yr\n",
    "    'pmdec': -0.11, #mas/yr\n",
    "    'e_pmdec': 0.01, #mas/yr\n",
    "    'rv': 87.5, #km/s\n",
    "    'e_rv': 0.4, #km/s\n",
    "    }\n",
    "dwarf = coord.SkyCoord(\n",
    "    ra=dwarf_dict['ra'] * u.degree,\n",
    "    dec=dwarf_dict['dec'] * u.degree,\n",
    "    distance=dwarf_dict['dist'] * u.kpc,\n",
    "    pm_ra_cosdec=dwarf_dict['pmra'] * (u.mas / u.yr),\n",
    "    pm_dec=dwarf_dict['pmdec'] * (u.mas / u.yr),\n",
    "    radial_velocity=dwarf_dict['rv'] * (u.km / u.s),\n",
    "    frame=\"icrs\"\n",
    ")\n",
    "dwarf_GC = dwarf.transform_to(coord.Galactocentric)\n",
    "dwarf_ics = gd.PhaseSpacePosition(pos=dwarf_GC.cartesian.xyz, vel=dwarf_GC.velocity.d_xyz)"
   ]
  },
  {
   "cell_type": "markdown",
   "metadata": {},
   "source": [
    "HVS 14"
   ]
  },
  {
   "cell_type": "code",
   "execution_count": 26,
   "metadata": {},
   "outputs": [],
   "source": [
    "dict14 = {\n",
    "    'ra': 161.0072805184, #degree\n",
    "    'e_ra': 0.0001, #degree\n",
    "    'dec': 6.1941762509, #degree\n",
    "    'e_dec': 0.0001, #degree\n",
    "    'dist': 102.66, #kpc\n",
    "    'e_dist': 16.55, #kpc\n",
    "    'pmra': -2.17, #mas/yr\n",
    "    'e_pmra': 0.4, #mas/yr originally 1.38\n",
    "    'pmdec': 2.28, #mas/yr\n",
    "    'e_pmdec': 0.4, #mas/yr originally 1.68\n",
    "    'rv': 537.30, #km/s\n",
    "    'e_rv': 7.20, #km/s\n",
    "    }\n",
    "hvs14 = coord.SkyCoord(\n",
    "    ra=dict14['ra'] * u.degree,\n",
    "    dec=dict14['dec'] * u.degree,\n",
    "    distance=dict14['dist'] * u.kpc,\n",
    "    pm_ra_cosdec=dict14['pmra'] * (u.mas / u.yr),\n",
    "    pm_dec=dict14['pmdec'] * (u.mas / u.yr),\n",
    "    radial_velocity=dict14['rv'] * (u.km / u.s),\n",
    "    frame=\"icrs\"\n",
    ")\n",
    "hvs14_GC = hvs14.transform_to(coord.Galactocentric)\n",
    "hvs14_ics = gd.PhaseSpacePosition(pos=hvs14_GC.cartesian.xyz, vel=hvs14_GC.velocity.d_xyz)"
   ]
  },
  {
   "cell_type": "markdown",
   "metadata": {},
   "source": [
    "Milky Way Plot (z=0)"
   ]
  },
  {
   "cell_type": "code",
   "execution_count": 27,
   "metadata": {},
   "outputs": [],
   "source": [
    "# p_value, times = plot_closest(dict14, hvs14_ics, distance_mw, mw=True)\n",
    "# print(f\"p_value: {p_value}\")"
   ]
  },
  {
   "cell_type": "markdown",
   "metadata": {},
   "source": [
    "Galaxy Plot"
   ]
  },
  {
   "cell_type": "code",
   "execution_count": null,
   "metadata": {},
   "outputs": [
    {
     "name": "stdout",
     "output_type": "stream",
     "text": [
      "mean: [ 10.817497   -89.91740168  78.03877855]\n"
     ]
    }
   ],
   "source": [
    "min14 = 366.5427377870987\n",
    "\n",
    "dwarf_orbits = calculate_orbits(dwarf_dict, dwarf_ics, min14)\n",
    "points = []\n",
    "for orbit in dwarf_orbits:\n",
    "    final_pos = orbit[-1].pos.xyz.to(u.kpc).value[:3]\n",
    "    points.append(final_pos)\n",
    "points = np.array(points)\n",
    "mean = np.mean(points, axis=0)\n",
    "\n",
    "print(f\"mean: {mean}\")\n",
    "\n",
    "def distance_dwarf(num_steps, ics):\n",
    "    orbit = pot.integrate_orbit(ics, dt=-0.1*u.Myr, n_steps=num_steps)\n",
    "    final_pos = orbit[-1].pos.xyz.to(u.kpc).value[:3]\n",
    "    distance = np.linalg.norm(final_pos - mean)\n",
    "    return distance\n",
    "\n",
    "p_value, times = plot_closest(dict14, hvs14_ics, distance_dwarf, target=mean)\n",
    "print(f\"p_value: {p_value}\")\n",
    "\n",
    "# Plot histogram\n",
    "plt.hist(times, bins=10, edgecolor='black')\n",
    "plt.xlabel('Time (Myr)')\n",
    "plt.ylabel('Frequency')\n",
    "plt.title('Histogram of Times')\n",
    "plt.grid(True)\n",
    "plt.show()"
   ]
  }
 ],
 "metadata": {
  "kernelspec": {
   "display_name": "base",
   "language": "python",
   "name": "python3"
  },
  "language_info": {
   "codemirror_mode": {
    "name": "ipython",
    "version": 3
   },
   "file_extension": ".py",
   "mimetype": "text/x-python",
   "name": "python",
   "nbconvert_exporter": "python",
   "pygments_lexer": "ipython3",
   "version": "3.12.2"
  }
 },
 "nbformat": 4,
 "nbformat_minor": 2
}
