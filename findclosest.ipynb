{
 "cells": [
  {
   "cell_type": "markdown",
   "metadata": {},
   "source": [
    "Imports"
   ]
  },
  {
   "cell_type": "code",
   "execution_count": 37,
   "metadata": {},
   "outputs": [],
   "source": [
    "import astropy.units as u\n",
    "import astropy.coordinates as coord\n",
    "import matplotlib.pyplot as plt\n",
    "from matplotlib.patches import Ellipse\n",
    "import numpy as np\n",
    "import gala.integrate as gi\n",
    "import gala.dynamics as gd\n",
    "import gala.potential as gp\n",
    "from gala.units import galactic\n",
    "import scipy.optimize as opt\n",
    "from scipy.optimize import minimize_scalar"
   ]
  },
  {
   "cell_type": "markdown",
   "metadata": {},
   "source": [
    "Helper functions"
   ]
  },
  {
   "cell_type": "code",
   "execution_count": 38,
   "metadata": {},
   "outputs": [],
   "source": [
    "def compare(x_vals1, y_vals1, x_vals2, y_vals2):\n",
    "    pos1 = np.column_stack((x_vals1, y_vals1))\n",
    "    mean1 = np.mean(pos1, axis=0)\n",
    "    cov1 = np.cov(pos1, rowvar=False)\n",
    "\n",
    "    pos2 = np.column_stack((x_vals2, y_vals2))\n",
    "    mean2 = np.mean(pos2, axis=0)\n",
    "    cov2 = np.cov(pos2, rowvar=False)\n",
    "\n",
    "    dx = mean1[0] - mean2[0]\n",
    "    dy = mean1[1] - mean2[1]\n",
    "\n",
    "    combined_sigma_x = np.sqrt(np.max([cov1[0, 0],cov2[0, 0]]))\n",
    "    combined_sigma_y = np.sqrt(np.max([cov1[1, 1],cov2[1, 1]]))\n",
    "\n",
    "    Dx = dx / combined_sigma_x\n",
    "    Dy = dy / combined_sigma_y\n",
    "\n",
    "    return (Dx, Dy)\n",
    "\n",
    "def final_points(dict, ics, num_steps):\n",
    "    orbit = pot.integrate_orbit(ics, dt=-0.1*u.Myr, n_steps=num_steps)\n",
    "\n",
    "    n_samples = 100\n",
    "    ra_samples = np.random.normal(dict['ra'], dict['e_ra'], n_samples)\n",
    "    dec_samples = np.random.normal(dict['dec'], dict['e_dec'], n_samples)\n",
    "    dist_samples = np.random.normal(dict['dist'], dict['e_dist'], n_samples)\n",
    "    pmra_samples = np.random.normal(dict['pmra'], dict['e_pmra'], n_samples)\n",
    "    pmdec_samples = np.random.normal(dict['pmdec'], dict['e_pmdec'], n_samples)\n",
    "    rv_samples = np.random.normal(dict['rv'], dict['e_rv'], n_samples)\n",
    "\n",
    "    ics_list = []\n",
    "    for ra, dec, dist, pmra, pmdec, rv in zip(ra_samples, dec_samples, dist_samples, pmra_samples, pmdec_samples, rv_samples):\n",
    "        sc = coord.SkyCoord(ra=ra * u.degree,\n",
    "                    dec=dec * u.degree,\n",
    "                    distance=dist * u.kpc,\n",
    "                    pm_ra_cosdec=pmra * (u.mas / u.yr),\n",
    "                    pm_dec=pmdec * (u.mas / u.yr),\n",
    "                    radial_velocity=rv * (u.km / u.s),\n",
    "                    frame=\"icrs\")\n",
    "        gc = sc.transform_to(coord.Galactocentric)\n",
    "        ics = gd.PhaseSpacePosition(pos=gc.cartesian.xyz, vel=gc.velocity.d_xyz)\n",
    "        ics_list.append(ics)\n",
    "\n",
    "    orbits = []\n",
    "    orbits.append(orbit)\n",
    "    for ics in ics_list:\n",
    "        orbit = pot.integrate_orbit(ics, dt=-0.1*u.Myr, n_steps=num_steps)\n",
    "        orbits.append(orbit)\n",
    "\n",
    "    points = []\n",
    "    for i, orbit in enumerate(orbits):\n",
    "        final_pos = orbit[-1].pos.xyz.to(u.kpc).value[:3]\n",
    "        points.append(final_pos)\n",
    "    points = np.array(points)\n",
    "\n",
    "    x = points[:, 0]\n",
    "    y = points[:, 1]\n",
    "    z = points[:, 2]\n",
    "\n",
    "    return x, y, z\n",
    "\n",
    "def calculate_distance(num_steps, star, dwarf_dict, dwarf_ics):\n",
    "    SkyCoord = coord.SkyCoord(\n",
    "        ra=star['ra'] * u.degree,\n",
    "        dec=star['dec'] * u.degree,\n",
    "        distance=star['dist'] * u.kpc,\n",
    "        pm_ra_cosdec=star['pmra'] * (u.mas / u.yr),\n",
    "        pm_dec=star['pmdec'] * (u.mas / u.yr),\n",
    "        radial_velocity=star['rv'] * (u.km / u.s),\n",
    "        frame=\"icrs\"\n",
    "    )\n",
    "    GC = SkyCoord.transform_to(coord.Galactocentric)\n",
    "    ics = gd.PhaseSpacePosition(pos=GC.cartesian.xyz, vel=GC.velocity.d_xyz)\n",
    "\n",
    "    dx, dy, dz = final_points(dwarf_dict, dwarf_ics, num_steps)\n",
    "    x, y, z = final_points(star, ics, num_steps)\n",
    "\n",
    "    XY = compare(dx, dy, x, y)\n",
    "    distance_xy = np.sqrt(XY[0]**2 + XY[1]**2)\n",
    "    XZ = compare(dx, dz, x, z)\n",
    "    distance_xz = np.sqrt(XZ[0]**2 + XZ[1]**2)\n",
    "    YZ = compare(dy, dz, y, z)\n",
    "    distance_yz = np.sqrt(YZ[0]**2 + YZ[1]**2)\n",
    "    total = np.sqrt(distance_xy**2 + distance_xz**2 + distance_yz**2)\n",
    "\n",
    "    return total"
   ]
  },
  {
   "cell_type": "markdown",
   "metadata": {},
   "source": [
    "Define potential"
   ]
  },
  {
   "cell_type": "code",
   "execution_count": 39,
   "metadata": {},
   "outputs": [],
   "source": [
    "pot = gp.MilkyWayPotential()"
   ]
  },
  {
   "cell_type": "markdown",
   "metadata": {},
   "source": [
    "Stars"
   ]
  },
  {
   "cell_type": "code",
   "execution_count": 40,
   "metadata": {},
   "outputs": [],
   "source": [
    "hvs5 = {\n",
    "    'ra': 139.4978105603, #degree\n",
    "    'e_ra': 0.0001, #degree\n",
    "    'dec': 67.3773227272, #degree\n",
    "    'e_dec': 0.0001, #degree\n",
    "    'dist': 44.20, #kpc\n",
    "    'e_dist': 5.09, #kpc\n",
    "    'pmra': 0.00, #mas/yr\n",
    "    'e_pmra': 0.08, #mas/yr\n",
    "    'pmdec': -0.99, #mas/yr\n",
    "    'e_pmdec': 0.11, #mas/yr\n",
    "    'rv': 545.50, #km/s\n",
    "    'e_rv': 4.30, #km/s\n",
    "    }\n",
    "hvs8 = {\n",
    "    'ra': 145.5584849227, #degree\n",
    "    'e_ra': 0.0001, #degree\n",
    "    'dec': 20.0561234065, #degree\n",
    "    'e_dec': 0.0001, #degree\n",
    "    'dist': 53.19, #kpc\n",
    "    'e_dist': 9.80, #kpc\n",
    "    'pmra': -0.88, #mas/yr\n",
    "    'e_pmra': 0.16, #mas/yr\n",
    "    'pmdec': -0.28, #mas/yr\n",
    "    'e_pmdec': 0.14, #mas/yr\n",
    "    'rv': 499.30, #km/s\n",
    "    'e_rv': 2.90, #km/s\n",
    "    }\n",
    "hvs14 = {\n",
    "    'ra': 161.0072805184, #degree\n",
    "    'e_ra': 0.0001, #degree\n",
    "    'dec': 6.1941762509, #degree\n",
    "    'e_dec': 0.0001, #degree\n",
    "    'dist': 102.66, #kpc\n",
    "    'e_dist': 16.55, #kpc\n",
    "    'pmra': -2.17, #mas/yr\n",
    "    'e_pmra': 1.38, #mas/yr\n",
    "    'pmdec': 2.28, #mas/yr\n",
    "    'e_pmdec': 1.68, #mas/yr\n",
    "    'rv': 537.30, #km/s\n",
    "    'e_rv': 7.20, #km/s\n",
    "    }\n",
    "hvs17 = {\n",
    "    'ra': 250.4849449351, #degree\n",
    "    'e_ra': 0.0001, #degree\n",
    "    'dec': 47.3961264077, #degree\n",
    "    'e_dec': 0.0001, #degree\n",
    "    'dist': 49.82, #kpc\n",
    "    'e_dist': 3.90, #kpc\n",
    "    'pmra': -1.13, #mas/yr\n",
    "    'e_pmra': 0.09, #mas/yr\n",
    "    'pmdec': -0.93, #mas/yr\n",
    "    'e_pmdec': 0.10, #mas/yr\n",
    "    'rv': 250.20, #km/s\n",
    "    'e_rv': 2.90, #km/s\n",
    "    }\n",
    "hvs23 = {\n",
    "    'ra': 329.1209186025, #degree\n",
    "    'e_ra': 0.0001, #degree\n",
    "    'dec': 0.9122807743, #degree\n",
    "    'e_dec': 0.0001, #degree\n",
    "    'dist': 114.87, #kpc\n",
    "    'e_dist': 20.10, #kpc\n",
    "    'pmra': -1.21, #mas/yr\n",
    "    'e_pmra': 1.29, #mas/yr\n",
    "    'pmdec': -2.46, #mas/yr\n",
    "    'e_pmdec': 1.50, #mas/yr\n",
    "    'rv': 259.30, #km/s\n",
    "    'e_rv': 9.80, #km/s\n",
    "    }\n",
    "\n",
    "map = {\n",
    "    0: 'hvs5',\n",
    "    1: 'hvs8',\n",
    "    2: 'hvs14',\n",
    "    3: 'hvs17',\n",
    "    4: 'hvs23',\n",
    "}"
   ]
  },
  {
   "cell_type": "markdown",
   "metadata": {},
   "source": [
    "Dwarf galaxy"
   ]
  },
  {
   "cell_type": "code",
   "execution_count": 41,
   "metadata": {},
   "outputs": [
    {
     "name": "stderr",
     "output_type": "stream",
     "text": [
      "WARNING: AstropyDeprecationWarning: The get_name method is deprecated and may be removed in a future version.\n",
      "        Use name instead. [gala.dynamics.core]\n"
     ]
    }
   ],
   "source": [
    "# Leo I\n",
    "dwarf_dict = {\n",
    "    'ra': 152.117175, #degree\n",
    "    'e_ra': 0.0001, #degree\n",
    "    'dec': 12.3065, #degree\n",
    "    'e_dec': 0.0001, #degree\n",
    "    'dist': 254.0, #kpc\n",
    "    'e_dist': 15.5, #kpc\n",
    "    'pmra': -0.007, #mas/yr\n",
    "    'e_pmra': 0.035, #mas/yr\n",
    "    'pmdec': -0.119, #mas/yr\n",
    "    'e_pmdec': 0.026, #mas/yr\n",
    "    'rv': 282.9, #km/s\n",
    "    'e_rv': 0.5, #km/s\n",
    "    }\n",
    "# # Sextans (I)\n",
    "# dwarf_dict = {\n",
    "#     'ra': 153.262584, #degree\n",
    "#     'e_ra': 0.0001, #degree\n",
    "#     'dec': -1.6147, #degree\n",
    "#     'e_dec': 0.0001, #degree\n",
    "#     'dist': 95.0, #kpc\n",
    "#     'e_dist': 3.0, #kpc\n",
    "#     'pmra': -0.41, #mas/yr\n",
    "#     'e_pmra': 0.01, #mas/yr\n",
    "#     'pmdec': 0.04, #mas/yr\n",
    "#     'e_pmdec': 0.01, #mas/yr\n",
    "#     'rv': 224.3, #km/s\n",
    "#     'e_rv': 0.1, #km/s\n",
    "#     }\n",
    "dwarf = coord.SkyCoord(\n",
    "    ra=dict['ra'] * u.degree,\n",
    "    dec=dict['dec'] * u.degree,\n",
    "    distance=dict['dist'] * u.kpc,\n",
    "    pm_ra_cosdec=dict['pmra'] * (u.mas / u.yr),\n",
    "    pm_dec=dict['pmdec'] * (u.mas / u.yr),\n",
    "    radial_velocity=dict['rv'] * (u.km / u.s),\n",
    "    frame=\"icrs\"\n",
    ")\n",
    "dwarf_GC = dwarf.transform_to(coord.Galactocentric)\n",
    "dwarf_ics = gd.PhaseSpacePosition(pos=dwarf_GC.cartesian.xyz, vel=dwarf_GC.velocity.d_xyz)\n"
   ]
  },
  {
   "cell_type": "markdown",
   "metadata": {},
   "source": [
    "Calculate"
   ]
  },
  {
   "cell_type": "code",
   "execution_count": 43,
   "metadata": {},
   "outputs": [
    {
     "name": "stderr",
     "output_type": "stream",
     "text": [
      "WARNING: AstropyDeprecationWarning: The get_name method is deprecated and may be removed in a future version.\n",
      "        Use name instead. [gala.dynamics.core]\n"
     ]
    },
    {
     "name": "stdout",
     "output_type": "stream",
     "text": [
      "hvs5: minimum distance 20.340880126284755 at 6044.877940737433 steps\n",
      "hvs8: minimum distance 12.632298064239913 at 13286.066549983396 steps\n",
      "hvs14: minimum distance 2.8330165533618072 at 9463.436712209297 steps\n",
      "hvs17: minimum distance 13.892170070230996 at 9461.492195065215 steps\n",
      "hvs23: minimum distance 2.553366207511253 at 9507.480174422486 steps\n"
     ]
    }
   ],
   "source": [
    "for i, star in enumerate([hvs5, hvs8, hvs14, hvs17, hvs23]):\n",
    "    result = minimize_scalar(\n",
    "        calculate_distance,\n",
    "        args=(star, dwarf_dict, dwarf_ics),\n",
    "        bounds=(500, 15000),  # search between 500 and 15000 steps\n",
    "        method='bounded'\n",
    "    )\n",
    "\n",
    "    print(f\"{map[i]}: minimum distance {result.fun} at {result.x} steps\")"
   ]
  }
 ],
 "metadata": {
  "kernelspec": {
   "display_name": "base",
   "language": "python",
   "name": "python3"
  },
  "language_info": {
   "codemirror_mode": {
    "name": "ipython",
    "version": 3
   },
   "file_extension": ".py",
   "mimetype": "text/x-python",
   "name": "python",
   "nbconvert_exporter": "python",
   "pygments_lexer": "ipython3",
   "version": "3.12.2"
  }
 },
 "nbformat": 4,
 "nbformat_minor": 2
}
